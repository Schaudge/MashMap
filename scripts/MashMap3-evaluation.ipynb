{
 "cells": [
  {
   "cell_type": "code",
   "execution_count": null,
   "id": "8b2922df-7263-4def-86cf-10a986034fe0",
   "metadata": {},
   "outputs": [],
   "source": [
    "from pafpy import PafFile, Strand\n",
    "from tqdm.notebook import tqdm\n",
    "from collections import defaultdict, Counter\n",
    "import intervaltree as itree\n",
    "from Bio import SeqIO\n",
    "import matplotlib.pyplot as plt\n",
    "from scipy import stats\n",
    "import numpy as np\n",
    "from collections import defaultdict\n",
    "import time\n",
    "plt.rcParams[\"figure.figsize\"] = (10, 6)\n",
    "plt.rcParams[\"figure.facecolor\"] = \"white\"\n",
    "plt.rcParams.update({'font.size': 18})\n",
    "\n"
   ]
  },
  {
   "cell_type": "code",
   "execution_count": null,
   "id": "5fa23992-ad33-459b-8176-89cbebb2e03a",
   "metadata": {},
   "outputs": [],
   "source": [
    "human_ref = \"/home/Users/blk6/Data/assemblies/human-ref/T2T_v2.1.fna\"\n",
    "human_index = SeqIO.index(human_ref, \"fasta\")"
   ]
  },
  {
   "cell_type": "code",
   "execution_count": null,
   "id": "05d771b5-b72a-430e-8e7e-6123dfb9f0ed",
   "metadata": {},
   "outputs": [],
   "source": [
    "ONT92_file = \"/home/Users/blk6/Data/reads/human/ONT-92.fa\"\n",
    "ONT92_index = SeqIO.index(ONT92_file, \"fasta\")"
   ]
  },
  {
   "cell_type": "code",
   "execution_count": null,
   "id": "82aa9f10-8b5f-4b20-a05c-3be54160b9d1",
   "metadata": {},
   "outputs": [],
   "source": [
    "HG002_file = \"/home/Users/blk6/Data/reads/human/HG002-HiFi.fa\"\n",
    "HG002_index = SeqIO.index(HG002_file, \"fasta\")"
   ]
  },
  {
   "cell_type": "code",
   "execution_count": 1373,
   "id": "30126235-55d9-498c-852f-83b1dab9a937",
   "metadata": {},
   "outputs": [
    {
     "data": {
      "application/vnd.jupyter.widget-view+json": {
       "model_id": "1af03a673fad43978ceffbdde3b5414c",
       "version_major": 2,
       "version_minor": 0
      },
      "text/plain": [
       "0it [00:00, ?it/s]"
      ]
     },
     "metadata": {},
     "output_type": "display_data"
    }
   ],
   "source": [
    "ONT96_file = \"/home/Users/blk6/Data/reads/human/ONT-96-5000-d2.fa\"\n",
    "ONT96_index = {record.id : record for record in tqdm(SeqIO.parse(ONT96_file, \"fasta\"))}"
   ]
  },
  {
   "cell_type": "code",
   "execution_count": null,
   "id": "5fd36a0e-52e7-4be2-815a-c9b17c493e7d",
   "metadata": {},
   "outputs": [],
   "source": [
    "HiFi_file = \"/home/Users/blk6/Data/reads/human/HiFi-5000-d2.fa\"\n",
    "HiFi_index = SeqIO.index(HiFi_file, \"fasta\")"
   ]
  },
  {
   "cell_type": "code",
   "execution_count": 1231,
   "id": "6b37a837-a8ff-48d6-bbbb-cf182e0fe64a",
   "metadata": {},
   "outputs": [],
   "source": [
    "fnames_mashmap_new = \"\"\"qname\n",
    "qlen\n",
    "qstart\n",
    "qend\n",
    "strand\n",
    "tname\n",
    "tlen\n",
    "tstart\n",
    "tend\n",
    "nmatch\n",
    "alen\n",
    "mapq\"\"\".split(\"\\n\")\n",
    "\n",
    "fnames_mashmap_orig = \"\"\"qname\n",
    "qlen\n",
    "qstart\n",
    "qend\n",
    "strand\n",
    "tname\n",
    "tlen\n",
    "tstart\n",
    "tend\n",
    "ANI\"\"\".split(\"\\n\")"
   ]
  },
  {
   "cell_type": "code",
   "execution_count": null,
   "id": "592019cc-3acc-41df-b44d-39adfe6914b0",
   "metadata": {},
   "outputs": [],
   "source": [
    "from multiprocessing import Process, Manager\n",
    "from functools import partial\n",
    "    \n",
    "def parse_maf_for_ANI(rid_to_ANI_shared, dataset):\n",
    "    counter = 0\n",
    "    private_d = {}\n",
    "    for line_no, line in enumerate(line.strip() for line in open(f\"/home/Users/blk6/Data/reads/human/{dataset}-5000-d2.maf\")):\n",
    "        if line == \"\":\n",
    "            continue\n",
    "        if line[0] == \"a\":\n",
    "            if counter == 2:\n",
    "                match_columns = sum(ref_aln[i] == query_aln[i] for i in range(len(query_aln)))\n",
    "                total_columns = len(ref_aln)\n",
    "                # print(match_columns / total_columns)\n",
    "                private_d[rid] = match_columns / total_columns\n",
    "            counter = 0\n",
    "        elif line[0] == \"s\" and counter == 0:\n",
    "            counter += 1\n",
    "            ref_aln = line.split(\" \")[-1].upper()\n",
    "        elif line[0] == \"s\" and counter == 1:\n",
    "            rid = line.split(\" \")[1]\n",
    "            query_aln = line.split(\" \")[-1].upper()\n",
    "            counter += 1\n",
    "        if line_no % 100000== 0:\n",
    "            print(dataset, line_no)\n",
    "    rid_to_ANI_shared[dataset].update(private_d)\n",
    "    \n",
    "def get_ANI_dict():  \n",
    "    with Manager() as manager:\n",
    "        rid_to_ANI = manager.dict({dataset: manager.dict() for dataset in [\"HiFi\", \"ONT-96\", \"ONT-92\" ]})\n",
    "        with manager.Pool(4) as pool:\n",
    "            partial_f = partial(parse_maf_for_ANI, rid_to_ANI)\n",
    "            pool.map(partial_f, [\"HiFi\", \"ONT-96\", \"ONT-92\" ])\n",
    "\n",
    "        return {dataset: dict(d) for (dataset, d) in dict(rid_to_ANI).items()}\n",
    "        \n",
    "rid_to_ANI = get_ANI_dict()"
   ]
  },
  {
   "cell_type": "code",
   "execution_count": 1781,
   "id": "04a441cd-77e3-4961-aa80-f42ce6545f47",
   "metadata": {},
   "outputs": [],
   "source": [
    "k=31\n",
    "ss=75\n",
    "dataset = \"ONT-96\"\n",
    "rid_to_ANI_dataset = rid_to_ANI[\"ONT-96\"]\n",
    "read_index = ONT96_index\n",
    "from csv import DictReader\n",
    "out_paf = f\"/home/Users/blk6/Contribute/MashMap/{dataset}-ss{ss}-k{k}-n1.paf\"\n",
    "orig_out_paf = f\"/home/Users/blk6/Contribute/MashMap/{dataset}-ss{ss}-k{k}-n1-orig.paf\"\n",
    "wfmash_out_paf = f\"/home/Users/blk6/Contribute/MashMap/{dataset}-ss{ss}-k{k}-n1-wfmash.paf\"\n",
    "minimap_paf_file = f\"/home/Users/blk6/Contribute/wfmash/{dataset}-minimap2.paf\""
   ]
  },
  {
   "cell_type": "code",
   "execution_count": 1802,
   "id": "ae1ddea2-f334-4e74-9cd0-3dcf24bb37ee",
   "metadata": {
    "tags": []
   },
   "outputs": [
    {
     "data": {
      "application/vnd.jupyter.widget-view+json": {
       "model_id": "a9f30058427648ea948f9d62ba3b077a",
       "version_major": 2,
       "version_minor": 0
      },
      "text/plain": [
       "0it [00:00, ?it/s]"
      ]
     },
     "metadata": {},
     "output_type": "display_data"
    },
    {
     "data": {
      "application/vnd.jupyter.widget-view+json": {
       "model_id": "e9129a9df4bf41b49ddeeca7e4cf83ad",
       "version_major": 2,
       "version_minor": 0
      },
      "text/plain": [
       "0it [00:00, ?it/s]"
      ]
     },
     "metadata": {},
     "output_type": "display_data"
    },
    {
     "data": {
      "application/vnd.jupyter.widget-view+json": {
       "model_id": "e217e26691564b38b296281f35d01433",
       "version_major": 2,
       "version_minor": 0
      },
      "text/plain": [
       "0it [00:00, ?it/s]"
      ]
     },
     "metadata": {},
     "output_type": "display_data"
    },
    {
     "data": {
      "application/vnd.jupyter.widget-view+json": {
       "model_id": "a39aacf1d2ff44f78b68d84058e8fddc",
       "version_major": 2,
       "version_minor": 0
      },
      "text/plain": [
       "0it [00:00, ?it/s]"
      ]
     },
     "metadata": {},
     "output_type": "display_data"
    }
   ],
   "source": [
    "new_paf_file = out_paf\n",
    "orig_paf_file = orig_out_paf\n",
    "wfmash_paf_file = wfmash_out_paf\n",
    "minimap_paf_file = minimap_paf_file\n",
    "\n",
    "method_to_rids = defaultdict(set)\n",
    "\n",
    "rid_to_lines = defaultdict(lambda: defaultdict(list))\n",
    "with open(new_paf_file, 'r') as paf_f:\n",
    "    paf_reader = (DictReader(paf_f, delimiter='\\t', fieldnames = fnames))\n",
    "    for record in tqdm(paf_reader):\n",
    "        try:\n",
    "            for fn in [\"qstart\", \"qend\", \"tstart\", \"tend\", \"nmatch\"]:\n",
    "                record[fn] = int(record[fn])\n",
    "            rid = record[\"qname\"]\n",
    "            record[\"predicted_ANI\"] = float(record[None][0].split(\":\")[-1])/100\n",
    "            rid_to_lines[rid][\"new\"].append(record)\n",
    "            method_to_rids[method].add(rid)\n",
    "        except Exception as e:\n",
    "            print(e)\n",
    "        \n",
    "with open(wfmash_paf_file, 'r') as paf_f:\n",
    "    paf_reader = (DictReader(paf_f, delimiter='\\t', fieldnames = fnames))\n",
    "    for record in tqdm(paf_reader):\n",
    "        try:\n",
    "            for fn in [\"qstart\", \"qend\", \"tstart\", \"tend\", \"nmatch\"]:\n",
    "                record[fn] = int(record[fn])\n",
    "            rid = record[\"qname\"]\n",
    "            record[\"predicted_ANI\"] = float(record[None][0].split(\":\")[-1])/100\n",
    "            rid_to_lines[rid][\"wfmash\"].append(record)\n",
    "            method_to_rids[method].add(rid)\n",
    "        except Exception as e:\n",
    "            print(e)\n",
    "        \n",
    "with open(orig_paf_file, 'r') as paf_f:\n",
    "    paf_reader = (DictReader(paf_f, delimiter=' ', fieldnames = fnames_orig))\n",
    "    for record in tqdm(paf_reader):\n",
    "        try:\n",
    "            for fn in [\"qstart\", \"qend\", \"tstart\", \"tend\"]:\n",
    "                record[fn] = int(record[fn])\n",
    "            record[\"ANI\"] = float(record[\"ANI\"]) / 100\n",
    "            rid = record[\"qname\"]\n",
    "            rid_to_lines[rid][\"orig\"].append(record)\n",
    "            rid_to_lines[rid][\"orig\"][-1][\"predicted_ANI\"] = record[\"ANI\"]\n",
    "            method_to_rids[method].add(rid)\n",
    "        except Exception as e:\n",
    "            break\n",
    "            print(e)\n",
    "   \n",
    "with open(minimap_paf_file, 'r') as paf_f:\n",
    "    paf_reader = (DictReader(paf_f, delimiter='\\t', fieldnames = fnames))\n",
    "    for record in tqdm(paf_reader):\n",
    "        try:\n",
    "            for fn in [\"qstart\", \"qend\", \"tstart\", \"tend\", \"nmatch\"]:\n",
    "                record[fn] = int(record[fn])\n",
    "            rid = record[\"qname\"]\n",
    "            rid_to_lines[rid][\"minimap\"].append(record)\n",
    "        \n",
    "            for item in record[None]:\n",
    "                tag, vartype, val = item.split(\":\")\n",
    "                if tag == \"dv\":\n",
    "                    rid_to_lines[rid][\"minimap2\"][-1][\"predicted_ANI\"] = 1 - float(val)\n",
    "            method_to_rids[method].add(rid)\n",
    "        except Exception as e:\n",
    "            break\n",
    "            print(e)\n",
    "         \n",
    "        \n",
    "RIDS =  new_rids & orig_rids & minimap_rids\n",
    "    "
   ]
  },
  {
   "cell_type": "code",
   "execution_count": 1484,
   "id": "6baa1602-6c51-4cee-8c03-9a2e059ae77b",
   "metadata": {},
   "outputs": [],
   "source": [
    "def flatten(l):\n",
    "    return [item for sublist in l for item in sublist]"
   ]
  },
  {
   "cell_type": "code",
   "execution_count": null,
   "id": "35ec2d37-8081-4660-811c-8f2a2cdd8dae",
   "metadata": {},
   "outputs": [],
   "source": [
    "key = \"predicted_ANI\""
   ]
  },
  {
   "cell_type": "code",
   "execution_count": 1776,
   "id": "0e0baac0-d123-4cc2-a89b-af7bff172066",
   "metadata": {},
   "outputs": [
    {
     "data": {
      "image/png": "[encoded data removed]",
      "text/plain": [
       "<Figure size 432x288 with 1 Axes>"
      ]
     },
     "metadata": {
      "needs_background": "light"
     },
     "output_type": "display_data"
    }
   ],
   "source": [
    "import scipy\n",
    "methods =  [\"mashmap2\", \"mashmap3\", \"minimap2\"]\n",
    "method_diffs = defaultdict(list)\n",
    "for method in methods:\n",
    "    for rid in read_index.keys():\n",
    "        best_pred = -1\n",
    "        for record in rid_to_lines[rid][\"orig\"]:\n",
    "            try:\n",
    "                best_pred = max(best_pred, record[key])\n",
    "            except Exception as e:\n",
    "                print(e)\n",
    "                break\n",
    "        try:\n",
    "            if best_pred >= 0:\n",
    "                method_diffs[method].append(abs(best_pred - rid_to_ANI_dataset[rid.split(\"!\")[0]]))\n",
    "        except:\n",
    "            pass\n",
    "    plt.title(method)\n",
    "    plt.hist(method_diffs[method], bins = np.linspace(-.1, .1, 101))\n",
    "    plt.axvline(0)\n",
    "    plt.show()\n",
    "    \n",
    "for method in methods:\n",
    "    diff = method_diffs[method]\n",
    "    desc = stats.describe(diff)\n",
    "    print(f\"{method}:\\tN={desc.nobs}\\tMean={desc.mean : .5f}\\tVar={desc.variance: .5f}\")\n"
   ]
  },
  {
   "cell_type": "code",
   "execution_count": 1780,
   "id": "81f0f27d-a778-4144-95c4-de14532a2226",
   "metadata": {},
   "outputs": [
    {
     "name": "stdout",
     "output_type": "stream",
     "text": [
      "N=1245140\tMean= 0.01078\tVar= 0.00011\n",
      "N=1242794\tMean= 0.01158\tVar= 0.00011\n",
      "N=1245124\tMean= 0.01157\tVar= 0.00011\n",
      "N=1246150\tMean= 0.01177\tVar= 0.00039\n"
     ]
    }
   ],
   "source": [
    "import scipy\n",
    "from pprint import pprint\n",
    "for diff in [orig_diffs, wfmash_diffs, new_diffs, minimap_diffs]:\n",
    "    desc = stats.describe(diff)\n",
    "    print(f\"N={desc.nobs}\\tMean={desc.mean : .5f}\\tVar={desc.variance: .5f}\")\n"
   ]
  },
  {
   "cell_type": "code",
   "execution_count": 1724,
   "id": "a17be4f7-8e3c-4398-bb30-fefb18c0642a",
   "metadata": {},
   "outputs": [],
   "source": [
    "methods = [\"MashMap2\", \"MashMap3\", \"Minimap2\" ]\n",
    "computational = {\n",
    "    \"ONT-92\" : {\n",
    "        \"num-reads\": 1000000,\n",
    "        \"Minimap2\": {\"Empty-fasta\": 161, \"reads\": 6345, \"Memory\": 10.2, \n",
    "                     \"Jaccard Error\": {\"mean\": -.0006, \"var\": .00044},\n",
    "                     \"ANI Error\": {\"mean\": 0.01177, \"var\": 0.04569}},\n",
    "        \"MashMap2\": {\"Empty-fasta\": 220, \"reads\": 219121, \"Memory\": 10.7,\n",
    "                     \"Jaccard Error\": {\"mean\": 0.01158, \"var\": 0.00092},\n",
    "                     \"ANI Error\": {\"mean\": 0.01078, \"var\": 0.04569}},\n",
    "        \"minmer-MashMap2\": {\"Empty-fasta\": 3112, \"reads\": 4702, \"Memory\": 13.5,\n",
    "                     \"Jaccard Error\": {\"mean\": 0.0003, \"var\": .00067},\n",
    "                     \"ANI Error\": {\"mean\": 0.01158, \"var\": 0.04569}}\n",
    "    },\n",
    "    \n",
    "    \"ONT-96\" : {\n",
    "        \"num-reads\": 1000000,\n",
    "        \"Minimap2\": {\"Empty-fasta\": 160, \"reads\": 9401, \"Memory\": 10.3, \n",
    "                     \"Jaccard Error\": {\"mean\": -.0262, \"var\": .0038},\n",
    "                     \"ANI Error\": {\"mean\": 0.01561, \"var\": 0.04569}},\n",
    "        \"MashMap2\": {\"Empty-fasta\": 201, \"reads\": 111629, \"Memory\": 8.5,\n",
    "                     \"Jaccard Error\": {\"mean\": 0.034, \"var\": 0.00392},\n",
    "                     \"ANI Error\": {\"mean\": 0.00591, \"var\": 0.04569}},\n",
    "        \"minmer-MashMap2\": {\"Empty-fasta\": 3010, \"reads\": 4221, \"Memory\": 10.7,\n",
    "                     \"Jaccard Error\": {\"mean\": -0.003, \"var\": .00267},\n",
    "                     \"ANI Error\": {\"mean\": 0.00651, \"var\": 0.04569}}\n",
    "    },\n",
    "    \n",
    "    \"HiFi-999\" : {\n",
    "        \"num-reads\": 1000000,\n",
    "        \"Minimap2\": {\"Empty-fasta\": 103, \"reads\": 2041, \"Memory\": 11.5, \n",
    "                     \"Jaccard Error\": {\"mean\": 0.00139, \"var\": 0.04569},\n",
    "                     \"ANI Error\": {\"mean\": 0.00243, \"var\": 0.04569}},\n",
    "        \"MashMap2\": {\"Empty-fasta\": 240, \"reads\": 3499, \"Memory\": 7.1, \n",
    "                     \"Jaccard Error\": {\"mean\": 0.10098, \"var\": 0.01406},\n",
    "                     \"ANI Error\": {\"mean\": 0.00041, \"var\": 0.04569}},\n",
    "        \"minmer-MashMap2\": {\"Empty-fasta\": 3001, \"reads\": 4340, \"Memory\": 8.1, \n",
    "                     \"Jaccard Error\": {\"mean\": -0.01370, \"var\": 0.00605},\n",
    "                     \"ANI Error\": {\"mean\": 0.00038, \"var\": 0.04569}}\n",
    "    }\n",
    "}\n",
    "\n",
    "for dataset, results in computational.items():\n",
    "    for method in methods:\n",
    "        results[method][\"Maptime\"] = results[method][\"reads\"] - results[method][\"Empty-fasta\"]"
   ]
  },
  {
   "cell_type": "code",
   "execution_count": null,
   "id": "b72eb8bd-693c-4ff2-9dc0-e778a872c409",
   "metadata": {},
   "outputs": [],
   "source": [
    "N=1246927\tMean= 0.00041\tVar= 0.00000\n",
    "N=1246927\tMean= 0.00038\tVar= 0.00000\n",
    "N=1246927\tMean= 0.00038\tVar= 0.00000\n",
    "N=1246927\tMean= 0.00139\tVar= 0.00000"
   ]
  },
  {
   "cell_type": "code",
   "execution_count": 1717,
   "id": "45a1b9b2-5212-48e0-bcaa-17a60f3c2955",
   "metadata": {},
   "outputs": [
    {
     "name": "stdout",
     "output_type": "stream",
     "text": [
      "minmer-MashMap2 &  51.87 &  26.50 & 13.5 &  1.17 &  50.17 &  20.18 & 10.7 &  0.65 &  50.02 &  22.32 & 8.1 &  0.04\\\\\n",
      "\\hline\n",
      "minimizer-MashMap2 &  3.67 &  3648.35 & 10.7 &  1.08 &  3.35 &  1857.13 & 8.5 &  0.59 &  4.00 &  54.32 & 7.1 &  0.04\\\\\n",
      "\\hline\n",
      "Minimap2 &  2.68 &  103.07 & 19.7 &  2.20 &  2.67 &  154.02 & 20.3 &  1.56 &  1.72 &  32.30 & 11.5 &  0.24\\\\\n",
      "\\hline\n"
     ]
    }
   ],
   "source": [
    "for method in methods:\n",
    "    line = method\n",
    "    for dataset in [\"ONT-92\", \"ONT-96\", \"HiFi-999\"]:\n",
    "        results = computational[dataset]\n",
    "        method_results = results[method]\n",
    "        line += f\" & {method_results['Empty-fasta']/ 60 : .2f}\"\n",
    "        line += f\" & {method_results['Maptime']/ 60 : .2f}\"\n",
    "        line += f\" & {method_results['Memory'] }\"\n",
    "        if \"ANI Error\" in method_results:\n",
    "            line += f\" & {method_results['ANI Error']['mean'] * 100: 0.2f}\"\n",
    "        else:\n",
    "            line += \" & \"\n",
    "    print(line + \"\\\\\\\\\")\n",
    "    print(\"\\\\hline\")"
   ]
  },
  {
   "cell_type": "code",
   "execution_count": 1294,
   "id": "585c3f29-4cfe-4dd5-bb72-99cb0713bf92",
   "metadata": {},
   "outputs": [],
   "source": [
    "from multiprocessing import Process, Manager\n",
    "from functools import partial\n",
    "    \n",
    "def parse_maf_for_ANI(rid_to_ANI_shared, dataset):\n",
    "    counter = 0\n",
    "    private_d = {}\n",
    "    for line_no, line in enumerate(line.strip() for line in open(f\"/home/Users/blk6/Data/reads/human/{dataset}-5000-d2.maf\")):\n",
    "        if line == \"\":\n",
    "            continue\n",
    "        if line[0] == \"a\":\n",
    "            if counter == 2:\n",
    "                match_columns = sum(ref_aln[i] == query_aln[i] for i in range(len(query_aln)))\n",
    "                total_columns = len(ref_aln)\n",
    "                # print(match_columns / total_columns)\n",
    "                private_d[rid] = match_columns / total_columns\n",
    "            counter = 0\n",
    "        elif line[0] == \"s\" and counter == 0:\n",
    "            counter += 1\n",
    "            ref_aln = line.split(\" \")[-1].upper()\n",
    "        elif line[0] == \"s\" and counter == 1:\n",
    "            rid = line.split(\" \")[1]\n",
    "            query_aln = line.split(\" \")[-1].upper()\n",
    "            counter += 1\n",
    "        if line_no % 100000== 0:\n",
    "            print(dataset, line_no)\n",
    "    rid_to_ANI_shared[dataset].update(private_d)\n",
    "    \n",
    "def get_ANI_dict():  \n",
    "    with Manager() as manager:\n",
    "        rid_to_ANI = manager.dict({dataset: manager.dict() for dataset in [\"HiFi\", \"ONT-96\", \"ONT-92\" ]})\n",
    "        with manager.Pool(4) as pool:\n",
    "            partial_f = partial(parse_maf_for_ANI, rid_to_ANI)\n",
    "            pool.map(partial_f, [\"HiFi\", \"ONT-96\", \"ONT-92\" ])\n",
    "\n",
    "        return {dataset: dict(d) for (dataset, d) in dict(rid_to_ANI).items()}\n",
    "        \n",
    "rid_to_ANI = get_ANI_dict()"
   ]
  }
 ],
 "metadata": {
  "kernelspec": {
   "display_name": "Python 3 (ipykernel)",
   "language": "python",
   "name": "python3"
  },
  "language_info": {
   "codemirror_mode": {
    "name": "ipython",
    "version": 3
   },
   "file_extension": ".py",
   "mimetype": "text/x-python",
   "name": "python",
   "nbconvert_exporter": "python",
   "pygments_lexer": "ipython3",
   "version": "3.9.13"
  }
 },
 "nbformat": 4,
 "nbformat_minor": 5
}
